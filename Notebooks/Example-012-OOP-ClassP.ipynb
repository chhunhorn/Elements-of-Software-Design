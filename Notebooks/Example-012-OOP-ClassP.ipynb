{
 "cells": [
  {
   "cell_type": "code",
   "execution_count": 25,
   "metadata": {},
   "outputs": [
    {
     "name": "stdout",
     "output_type": "stream",
     "text": [
      "Kia\n",
      "2\n",
      "Kia's salary is:  6000\n"
     ]
    }
   ],
   "source": [
    "class Professor:\n",
    "    \n",
    "    def __init__(self, name, courses, projects):\n",
    "        self.name = name\n",
    "        self.__courses = courses\n",
    "        self.__projects = projects\n",
    "        \n",
    "    def get_name(self):\n",
    "        return self.name\n",
    "    \n",
    "    def set_courses(self, n):\n",
    "        if(n > 0 and n<10):\n",
    "            self.__courses=n\n",
    "        else:\n",
    "            print(\"Invalid course number\")\n",
    "    def get_courses(self):\n",
    "        return self.__courses\n",
    "    \n",
    "    def add_courses(self, n):\n",
    "        self.__courses = self.__courses+n\n",
    "        \n",
    "    def get_salary(self):\n",
    "        return 1000 * self.__courses + 4000*self.__projects\n",
    "\n",
    "k = Professor(\"Chris\", 1, 1)\n",
    "print(k.name)\n",
    "\n",
    "\n",
    "k.add_courses(1)\n",
    "print(k.get_courses())\n",
    "\n",
    "print(\"Chris's salary is: \", k.get_salary())"
   ]
  },
  {
   "cell_type": "code",
   "execution_count": 26,
   "metadata": {},
   "outputs": [
    {
     "data": {
      "text/plain": [
       "__main__.Professor"
      ]
     },
     "execution_count": 26,
     "metadata": {},
     "output_type": "execute_result"
    }
   ],
   "source": [
    "type(k)"
   ]
  },
  {
   "cell_type": "code",
   "execution_count": null,
   "metadata": {},
   "outputs": [],
   "source": []
  }
 ],
 "metadata": {
  "kernelspec": {
   "display_name": "Python 3",
   "language": "python",
   "name": "python3"
  },
  "language_info": {
   "codemirror_mode": {
    "name": "ipython",
    "version": 3
   },
   "file_extension": ".py",
   "mimetype": "text/x-python",
   "name": "python",
   "nbconvert_exporter": "python",
   "pygments_lexer": "ipython3",
   "version": "3.8.3"
  }
 },
 "nbformat": 4,
 "nbformat_minor": 4
}
